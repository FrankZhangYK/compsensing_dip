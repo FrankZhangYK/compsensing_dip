{
 "cells": [
  {
   "cell_type": "code",
   "execution_count": 31,
   "metadata": {},
   "outputs": [],
   "source": [
    "import numpy as np\n",
    "import matplotlib.pyplot as plt\n",
    "import torch\n",
    "import torch.nn as nn\n",
    "import matplotlib.pyplot as plt\n",
    "from torchvision import transforms, datasets\n",
    "\n",
    "transform = transforms.Compose([transforms.ToTensor()])\n",
    "\n",
    "dataset = datasets.MNIST('.data', train=False, download=True,transform=transform)\n",
    "dataloader = torch.utils.data.DataLoader(dataset, batch_size=1, shuffle=False)\n",
    "\n",
    "for img, labels in dataloader:\n",
    "    break\n",
    "    "
   ]
  },
  {
   "cell_type": "code",
   "execution_count": 43,
   "metadata": {},
   "outputs": [],
   "source": [
    "num_measurements= [10, 15, 25, 35, 50, 75, 100]\n",
    "\n",
    "rec_error = np.zeros((len(num_measurements), 100))\n",
    "for i,m in enumerate(num_measurements):\n",
    "    for j, (img, labels) in enumerate(dataloader):\n",
    "        img = img.view(1,-1).numpy()\n",
    "        rec = plt.imread('./{0}/vae/0.0_1.0_0.1_adam_0.01_0.9_False_1000_10/{1}.png'.format(m,j))\n",
    "        rec_error[i,j] = 4*np.linalg.norm(rec.ravel()-img)**2/784.\n",
    "        if j==99:\n",
    "            break"
   ]
  },
  {
   "cell_type": "code",
   "execution_count": 44,
   "metadata": {},
   "outputs": [
    {
     "data": {
      "text/plain": [
       "<Container object of 3 artists>"
      ]
     },
     "execution_count": 44,
     "metadata": {},
     "output_type": "execute_result"
    },
    {
     "data": {
      "image/png": "[encoded data removed]",
      "text/plain": [
       "<matplotlib.figure.Figure at 0x7fb4279036a0>"
      ]
     },
     "metadata": {},
     "output_type": "display_data"
    }
   ],
   "source": [
    "plt.errorbar(num_measurements,np.mean(rec_error, axis=1),yerr=2*np.std(rec_error, axis=1)/10.,fmt='b*')"
   ]
  }
 ],
 "metadata": {
  "kernelspec": {
   "display_name": "Python 3",
   "language": "python",
   "name": "python3"
  },
  "language_info": {
   "codemirror_mode": {
    "name": "ipython",
    "version": 3
   },
   "file_extension": ".py",
   "mimetype": "text/x-python",
   "name": "python",
   "nbconvert_exporter": "python",
   "pygments_lexer": "ipython3",
   "version": "3.5.2"
  }
 },
 "nbformat": 4,
 "nbformat_minor": 2
}
